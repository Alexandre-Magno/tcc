{
 "cells": [
  {
   "cell_type": "markdown",
   "id": "c4193ecb",
   "metadata": {},
   "source": [
    "# 0.0 Imports\n"
   ]
  },
  {
   "cell_type": "code",
   "execution_count": 39,
   "id": "52f5d22f",
   "metadata": {},
   "outputs": [],
   "source": [
    "import pandas as pd\n",
    "import seaborn as sns\n"
   ]
  },
  {
   "cell_type": "markdown",
   "id": "3a2d159b",
   "metadata": {},
   "source": [
    "## 0.1 loading data"
   ]
  },
  {
   "cell_type": "code",
   "execution_count": 4,
   "id": "9dd30aa0",
   "metadata": {},
   "outputs": [],
   "source": [
    "df_raw = pd.read_csv(r\"C:\\Users\\alexandre.fonseca\\Documents\\repos\\tcc\\data\\FPM-por-Municipio.csv\", sep=';',encoding=\"latin1\")\n"
   ]
  },
  {
   "cell_type": "markdown",
   "id": "1db4d9b4",
   "metadata": {},
   "source": [
    "## 0.2 Helper Functions"
   ]
  },
  {
   "cell_type": "markdown",
   "id": "8fb5e4ee",
   "metadata": {},
   "source": [
    "# 1.0 Data Description"
   ]
  },
  {
   "cell_type": "code",
   "execution_count": 6,
   "id": "fc469984",
   "metadata": {},
   "outputs": [],
   "source": [
    "df1 = df_raw.copy()"
   ]
  },
  {
   "cell_type": "markdown",
   "id": "b5fb7449",
   "metadata": {},
   "source": [
    "## 1.1 rename columns"
   ]
  },
  {
   "cell_type": "code",
   "execution_count": 9,
   "id": "a0d823ec",
   "metadata": {},
   "outputs": [],
   "source": [
    "df1.columns  = ['codigo', 'municipio', 'uf', 'municipio_uf', 'mes', '1996', '1997',\n",
    "       '1998', '1999', '2000', '2001', '2002', '2003', '2004', '2005', '2006',\n",
    "       '2007', '2008', '2009', '2010', '2011', '2012', '2013', '2014', '2015',\n",
    "       '2016', '2017', '2018', '2019', '2020', '2021', '2022', '2023', '2024',\n",
    "       '2025']"
   ]
  },
  {
   "cell_type": "markdown",
   "id": "f052d104",
   "metadata": {},
   "source": [
    "## 1.2 Data Dimensions"
   ]
  },
  {
   "cell_type": "code",
   "execution_count": 10,
   "id": "21d44715",
   "metadata": {},
   "outputs": [
    {
     "name": "stdout",
     "output_type": "stream",
     "text": [
      " Number of rows 66848\n",
      " Number of cols 35\n"
     ]
    }
   ],
   "source": [
    "print(\" Number of rows {}\".format( df1.shape[0] ) )\n",
    "print(\" Number of cols {}\".format( df1.shape[1] ) )"
   ]
  },
  {
   "cell_type": "markdown",
   "id": "ddc3d45a",
   "metadata": {},
   "source": [
    "## 1.3 Data Types"
   ]
  },
  {
   "cell_type": "code",
   "execution_count": 11,
   "id": "4e0f6f45",
   "metadata": {},
   "outputs": [
    {
     "data": {
      "text/plain": [
       "codigo          float64\n",
       "municipio        object\n",
       "uf               object\n",
       "municipio_uf     object\n",
       "mes             float64\n",
       "1996             object\n",
       "1997             object\n",
       "1998             object\n",
       "1999             object\n",
       "2000             object\n",
       "2001             object\n",
       "2002             object\n",
       "2003             object\n",
       "2004             object\n",
       "2005             object\n",
       "2006             object\n",
       "2007             object\n",
       "2008             object\n",
       "2009             object\n",
       "2010             object\n",
       "2011             object\n",
       "2012             object\n",
       "2013             object\n",
       "2014             object\n",
       "2015             object\n",
       "2016             object\n",
       "2017             object\n",
       "2018             object\n",
       "2019             object\n",
       "2020             object\n",
       "2021             object\n",
       "2022             object\n",
       "2023             object\n",
       "2024             object\n",
       "2025             object\n",
       "dtype: object"
      ]
     },
     "execution_count": 11,
     "metadata": {},
     "output_type": "execute_result"
    }
   ],
   "source": [
    "df1.dtypes\n"
   ]
  },
  {
   "cell_type": "markdown",
   "id": "f1392da8-7f7f-41fd-9569-dc37619673df",
   "metadata": {},
   "source": [
    "## 1.4 Check NA"
   ]
  },
  {
   "cell_type": "code",
   "execution_count": 12,
   "id": "d7005e0d",
   "metadata": {},
   "outputs": [
    {
     "data": {
      "text/plain": [
       "codigo          8\n",
       "municipio       8\n",
       "uf              8\n",
       "municipio_uf    8\n",
       "mes             8\n",
       "1996            8\n",
       "1997            8\n",
       "1998            8\n",
       "1999            8\n",
       "2000            8\n",
       "2001            8\n",
       "2002            8\n",
       "2003            8\n",
       "2004            8\n",
       "2005            8\n",
       "2006            8\n",
       "2007            8\n",
       "2008            8\n",
       "2009            8\n",
       "2010            8\n",
       "2011            8\n",
       "2012            8\n",
       "2013            8\n",
       "2014            8\n",
       "2015            8\n",
       "2016            8\n",
       "2017            8\n",
       "2018            8\n",
       "2019            8\n",
       "2020            8\n",
       "2021            8\n",
       "2022            8\n",
       "2023            8\n",
       "2024            8\n",
       "2025            8\n",
       "dtype: int64"
      ]
     },
     "execution_count": 12,
     "metadata": {},
     "output_type": "execute_result"
    }
   ],
   "source": [
    "df1.isna().sum()\n"
   ]
  },
  {
   "cell_type": "markdown",
   "id": "9dc983bc",
   "metadata": {},
   "source": [
    "# 2.0 Data Engineering"
   ]
  },
  {
   "cell_type": "code",
   "execution_count": 21,
   "id": "7a8f3594",
   "metadata": {},
   "outputs": [],
   "source": [
    "df2 = df1.copy()\n"
   ]
  },
  {
   "cell_type": "markdown",
   "id": "fd4e32c7",
   "metadata": {},
   "source": [
    "## 2.1 Data filtering"
   ]
  },
  {
   "cell_type": "code",
   "execution_count": 22,
   "id": "2cacaeca",
   "metadata": {},
   "outputs": [],
   "source": [
    "CODIGO_CATALAO = 9301\n",
    "\n",
    "df2 = df2[df2['codigo'] == CODIGO_CATALAO]\n"
   ]
  },
  {
   "cell_type": "markdown",
   "id": "7d813859",
   "metadata": {},
   "source": [
    "## 2.2 remove cols"
   ]
  },
  {
   "cell_type": "code",
   "execution_count": 23,
   "id": "286f10a4",
   "metadata": {},
   "outputs": [
    {
     "data": {
      "text/html": [
       "<div>\n",
       "<style scoped>\n",
       "    .dataframe tbody tr th:only-of-type {\n",
       "        vertical-align: middle;\n",
       "    }\n",
       "\n",
       "    .dataframe tbody tr th {\n",
       "        vertical-align: top;\n",
       "    }\n",
       "\n",
       "    .dataframe thead th {\n",
       "        text-align: right;\n",
       "    }\n",
       "</style>\n",
       "<table border=\"1\" class=\"dataframe\">\n",
       "  <thead>\n",
       "    <tr style=\"text-align: right;\">\n",
       "      <th></th>\n",
       "      <th>codigo</th>\n",
       "      <th>uf</th>\n",
       "      <th>mes</th>\n",
       "      <th>1996</th>\n",
       "      <th>1997</th>\n",
       "      <th>1998</th>\n",
       "      <th>1999</th>\n",
       "      <th>2000</th>\n",
       "      <th>2001</th>\n",
       "      <th>2002</th>\n",
       "      <th>...</th>\n",
       "      <th>2016</th>\n",
       "      <th>2017</th>\n",
       "      <th>2018</th>\n",
       "      <th>2019</th>\n",
       "      <th>2020</th>\n",
       "      <th>2021</th>\n",
       "      <th>2022</th>\n",
       "      <th>2023</th>\n",
       "      <th>2024</th>\n",
       "      <th>2025</th>\n",
       "    </tr>\n",
       "  </thead>\n",
       "  <tbody>\n",
       "    <tr>\n",
       "      <th>11280</th>\n",
       "      <td>9301.0</td>\n",
       "      <td>GO</td>\n",
       "      <td>1.0</td>\n",
       "      <td>260.380,68</td>\n",
       "      <td>359.885,49</td>\n",
       "      <td>351.045,01</td>\n",
       "      <td>347.137,93</td>\n",
       "      <td>363.627,34</td>\n",
       "      <td>508.968,22</td>\n",
       "      <td>545.617,00</td>\n",
       "      <td>...</td>\n",
       "      <td>2.267.824,25</td>\n",
       "      <td>2.424.133,28</td>\n",
       "      <td>2.726.430,13</td>\n",
       "      <td>3.305.446,43</td>\n",
       "      <td>2.997.020,25</td>\n",
       "      <td>3.589.895,77</td>\n",
       "      <td>4.364.822,17</td>\n",
       "      <td>4.933.620,37</td>\n",
       "      <td>5.426.484,36</td>\n",
       "      <td>6.115.437,63</td>\n",
       "    </tr>\n",
       "    <tr>\n",
       "      <th>11281</th>\n",
       "      <td>9301.0</td>\n",
       "      <td>GO</td>\n",
       "      <td>2.0</td>\n",
       "      <td>264.623,42</td>\n",
       "      <td>268.349,96</td>\n",
       "      <td>324.591,85</td>\n",
       "      <td>355.138,16</td>\n",
       "      <td>330.570,07</td>\n",
       "      <td>414.703,97</td>\n",
       "      <td>638.515,02</td>\n",
       "      <td>...</td>\n",
       "      <td>2.838.988,08</td>\n",
       "      <td>3.107.673,66</td>\n",
       "      <td>3.564.296,88</td>\n",
       "      <td>3.630.834,98</td>\n",
       "      <td>4.330.560,47</td>\n",
       "      <td>4.705.443,16</td>\n",
       "      <td>6.092.923,69</td>\n",
       "      <td>6.597.339,13</td>\n",
       "      <td>7.378.667,37</td>\n",
       "      <td>8.206.211,16</td>\n",
       "    </tr>\n",
       "    <tr>\n",
       "      <th>11282</th>\n",
       "      <td>9301.0</td>\n",
       "      <td>GO</td>\n",
       "      <td>3.0</td>\n",
       "      <td>229.935,32</td>\n",
       "      <td>244.747,19</td>\n",
       "      <td>274.956,47</td>\n",
       "      <td>364.936,99</td>\n",
       "      <td>360.107,57</td>\n",
       "      <td>361.404,63</td>\n",
       "      <td>488.645,35</td>\n",
       "      <td>...</td>\n",
       "      <td>1.724.454,18</td>\n",
       "      <td>1.947.147,97</td>\n",
       "      <td>2.400.165,25</td>\n",
       "      <td>2.718.562,60</td>\n",
       "      <td>2.532.198,57</td>\n",
       "      <td>3.153.959,68</td>\n",
       "      <td>3.693.777,57</td>\n",
       "      <td>4.035.894,99</td>\n",
       "      <td>4.600.194,43</td>\n",
       "      <td>5.404.167,60</td>\n",
       "    </tr>\n",
       "    <tr>\n",
       "      <th>11283</th>\n",
       "      <td>9301.0</td>\n",
       "      <td>GO</td>\n",
       "      <td>4.0</td>\n",
       "      <td>405.094,47</td>\n",
       "      <td>306.919,11</td>\n",
       "      <td>343.212,20</td>\n",
       "      <td>329.996,68</td>\n",
       "      <td>373.508,65</td>\n",
       "      <td>413.275,31</td>\n",
       "      <td>510.352,87</td>\n",
       "      <td>...</td>\n",
       "      <td>2.050.005,66</td>\n",
       "      <td>2.345.982,23</td>\n",
       "      <td>2.516.495,07</td>\n",
       "      <td>2.652.257,05</td>\n",
       "      <td>2.482.115,16</td>\n",
       "      <td>3.297.225,87</td>\n",
       "      <td>4.378.434,37</td>\n",
       "      <td>4.614.287,46</td>\n",
       "      <td>4.824.931,28</td>\n",
       "      <td>5.491.556,43</td>\n",
       "    </tr>\n",
       "    <tr>\n",
       "      <th>11284</th>\n",
       "      <td>9301.0</td>\n",
       "      <td>GO</td>\n",
       "      <td>5.0</td>\n",
       "      <td>260.597,71</td>\n",
       "      <td>313.220,76</td>\n",
       "      <td>311.992,59</td>\n",
       "      <td>357.357,79</td>\n",
       "      <td>357.255,24</td>\n",
       "      <td>464.667,40</td>\n",
       "      <td>584.923,03</td>\n",
       "      <td>...</td>\n",
       "      <td>2.726.012,73</td>\n",
       "      <td>2.661.111,93</td>\n",
       "      <td>3.088.350,83</td>\n",
       "      <td>3.403.709,75</td>\n",
       "      <td>2.593.248,44</td>\n",
       "      <td>3.962.811,47</td>\n",
       "      <td>4.870.571,31</td>\n",
       "      <td>5.129.521,30</td>\n",
       "      <td>5.613.192,41</td>\n",
       "      <td>-</td>\n",
       "    </tr>\n",
       "  </tbody>\n",
       "</table>\n",
       "<p>5 rows × 33 columns</p>\n",
       "</div>"
      ],
      "text/plain": [
       "       codigo  uf  mes          1996          1997          1998  \\\n",
       "11280  9301.0  GO  1.0   260.380,68    359.885,49    351.045,01    \n",
       "11281  9301.0  GO  2.0   264.623,42    268.349,96    324.591,85    \n",
       "11282  9301.0  GO  3.0   229.935,32    244.747,19    274.956,47    \n",
       "11283  9301.0  GO  4.0   405.094,47    306.919,11    343.212,20    \n",
       "11284  9301.0  GO  5.0   260.597,71    313.220,76    311.992,59    \n",
       "\n",
       "               1999          2000          2001          2002  ...  \\\n",
       "11280   347.137,93    363.627,34    508.968,22    545.617,00   ...   \n",
       "11281   355.138,16    330.570,07    414.703,97    638.515,02   ...   \n",
       "11282   364.936,99    360.107,57    361.404,63    488.645,35   ...   \n",
       "11283   329.996,68    373.508,65    413.275,31    510.352,87   ...   \n",
       "11284   357.357,79    357.255,24    464.667,40    584.923,03   ...   \n",
       "\n",
       "                 2016            2017            2018            2019  \\\n",
       "11280   2.267.824,25    2.424.133,28    2.726.430,13    3.305.446,43    \n",
       "11281   2.838.988,08    3.107.673,66    3.564.296,88    3.630.834,98    \n",
       "11282   1.724.454,18    1.947.147,97    2.400.165,25    2.718.562,60    \n",
       "11283   2.050.005,66    2.345.982,23    2.516.495,07    2.652.257,05    \n",
       "11284   2.726.012,73    2.661.111,93    3.088.350,83    3.403.709,75    \n",
       "\n",
       "                 2020            2021            2022            2023  \\\n",
       "11280   2.997.020,25    3.589.895,77    4.364.822,17    4.933.620,37    \n",
       "11281   4.330.560,47    4.705.443,16    6.092.923,69    6.597.339,13    \n",
       "11282   2.532.198,57    3.153.959,68    3.693.777,57    4.035.894,99    \n",
       "11283   2.482.115,16    3.297.225,87    4.378.434,37    4.614.287,46    \n",
       "11284   2.593.248,44    3.962.811,47    4.870.571,31    5.129.521,30    \n",
       "\n",
       "                 2024            2025  \n",
       "11280   5.426.484,36    6.115.437,63   \n",
       "11281   7.378.667,37    8.206.211,16   \n",
       "11282   4.600.194,43    5.404.167,60   \n",
       "11283   4.824.931,28    5.491.556,43   \n",
       "11284   5.613.192,41             -     \n",
       "\n",
       "[5 rows x 33 columns]"
      ]
     },
     "execution_count": 23,
     "metadata": {},
     "output_type": "execute_result"
    }
   ],
   "source": [
    "cols_to_remove = ['municipio', 'municipio_uf']\n",
    "df2 = df2.drop(cols_to_remove, axis=1)"
   ]
  },
  {
   "cell_type": "markdown",
   "id": "0a1dd6bb",
   "metadata": {},
   "source": [
    "## 2.3 Data engineering"
   ]
  },
  {
   "cell_type": "code",
   "execution_count": 24,
   "id": "9cfa23d5",
   "metadata": {},
   "outputs": [],
   "source": [
    "## 2.4 Melt dos dados\n",
    "# Criando lista de colunas de anos\n",
    "anos = [str(ano) for ano in range(1996, 2026)]\n",
    "\n",
    "# Fazendo o melt dos dados\n",
    "df2 = pd.melt(df2, \n",
    "              id_vars=['codigo', 'uf', 'mes'],\n",
    "              value_vars=anos,\n",
    "              var_name='ano',\n",
    "              value_name='valor')\n",
    "\n",
    "# Convertendo o ano para inteiro\n",
    "df2['ano'] = df2['ano'].astype(int)"
   ]
  },
  {
   "cell_type": "code",
   "execution_count": 28,
   "id": "687c5be7",
   "metadata": {},
   "outputs": [],
   "source": [
    "df2 = df2[df2['valor'] != ' -   ']"
   ]
  },
  {
   "cell_type": "code",
   "execution_count": 31,
   "id": "1557feaf",
   "metadata": {},
   "outputs": [],
   "source": [
    "# Convertendo o valor para float (removendo pontos e vírgulas)\n",
    "df2['valor'] = df2['valor'].str.replace('.', '').str.replace(',', '.').astype(float)"
   ]
  },
  {
   "cell_type": "code",
   "execution_count": 34,
   "id": "4da60c8a",
   "metadata": {},
   "outputs": [],
   "source": [
    "df2[\"mes\"] = df2[\"mes\"].astype(int)"
   ]
  },
  {
   "cell_type": "code",
   "execution_count": 36,
   "id": "fe21388b",
   "metadata": {},
   "outputs": [],
   "source": [
    "# Ordenando os dados\n",
    "df2 = df2.sort_values(['ano', 'mes'])"
   ]
  },
  {
   "cell_type": "markdown",
   "id": "63879f7b",
   "metadata": {},
   "source": [
    "# 3.0 Exploratory Data Analysis\n"
   ]
  },
  {
   "cell_type": "code",
   "execution_count": 40,
   "id": "cdfbe4f6",
   "metadata": {},
   "outputs": [],
   "source": [
    "df3 = df2.copy()\n"
   ]
  },
  {
   "cell_type": "markdown",
   "id": "d2a902a2",
   "metadata": {},
   "source": [
    "##  3.1 Univariate Analysis"
   ]
  },
  {
   "cell_type": "markdown",
   "id": "e3d62bcb",
   "metadata": {},
   "source": [
    "### 3.1.1 Response Variable"
   ]
  },
  {
   "cell_type": "code",
   "execution_count": 41,
   "id": "81d7feb5",
   "metadata": {},
   "outputs": [
    {
     "data": {
      "text/plain": [
       "<seaborn.axisgrid.FacetGrid at 0x2d614ea7110>"
      ]
     },
     "execution_count": 41,
     "metadata": {},
     "output_type": "execute_result"
    },
    {
     "data": {
      "image/png": "[encoded data removed]",
      "text/plain": [
       "<Figure size 500x500 with 1 Axes>"
      ]
     },
     "metadata": {},
     "output_type": "display_data"
    }
   ],
   "source": [
    "sns.displot(df3[\"valor\"])"
   ]
  },
  {
   "cell_type": "markdown",
   "id": "c4b521b1",
   "metadata": {},
   "source": [
    "Observações: \n",
    "- Distribuição de cauda longa para a variável que queremos prever"
   ]
  },
  {
   "cell_type": "code",
   "execution_count": null,
   "id": "caa01a19",
   "metadata": {},
   "outputs": [],
   "source": []
  },
  {
   "cell_type": "code",
   "execution_count": null,
   "id": "9ce83cb0",
   "metadata": {},
   "outputs": [],
   "source": []
  }
 ],
 "metadata": {
  "kernelspec": {
   "display_name": ".venv",
   "language": "python",
   "name": "python3"
  },
  "language_info": {
   "codemirror_mode": {
    "name": "ipython",
    "version": 3
   },
   "file_extension": ".py",
   "mimetype": "text/x-python",
   "name": "python",
   "nbconvert_exporter": "python",
   "pygments_lexer": "ipython3",
   "version": "3.12.6"
  }
 },
 "nbformat": 4,
 "nbformat_minor": 5
}
