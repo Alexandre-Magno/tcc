{
 "cells": [
  {
   "cell_type": "markdown",
   "id": "c4193ecb",
   "metadata": {},
   "source": [
    "# 0.0 Imports\n"
   ]
  },
  {
   "cell_type": "code",
   "execution_count": 1,
   "id": "52f5d22f",
   "metadata": {},
   "outputs": [],
   "source": [
    "import pandas as pd\n",
    "import seaborn as sns\n",
    "\n",
    "from utils.data_engineer import split_temporal_data\n",
    "from utils.metrics import ml_error, get_model_performance, models_cross_validation\n",
    "\n",
    "import xgboost as xgb\n",
    "from catboost              import CatBoostRegressor\n",
    "from sklearn.ensemble      import RandomForestRegressor\n",
    "from sklearn.neighbors     import KNeighborsRegressor\n",
    "from sklearn.linear_model  import LinearRegression,Lasso\n",
    "\n"
   ]
  },
  {
   "cell_type": "markdown",
   "id": "3a2d159b",
   "metadata": {},
   "source": [
    "## 0.1 loading data"
   ]
  },
  {
   "cell_type": "code",
   "execution_count": 2,
   "id": "9dd30aa0",
   "metadata": {},
   "outputs": [],
   "source": [
    "df_raw = pd.read_csv(r\"C:\\Users\\alexandre.fonseca\\Documents\\repos\\tcc\\data\\FPM-por-Municipio.csv\", sep=';',encoding=\"latin1\")\n"
   ]
  },
  {
   "cell_type": "markdown",
   "id": "1db4d9b4",
   "metadata": {},
   "source": [
    "## 0.2 Helper Functions"
   ]
  },
  {
   "cell_type": "code",
   "execution_count": null,
   "id": "0ba6de38",
   "metadata": {},
   "outputs": [],
   "source": []
  },
  {
   "cell_type": "markdown",
   "id": "8fb5e4ee",
   "metadata": {},
   "source": [
    "# 1.0 Data Description"
   ]
  },
  {
   "cell_type": "code",
   "execution_count": 3,
   "id": "fc469984",
   "metadata": {},
   "outputs": [],
   "source": [
    "df1 = df_raw.copy()"
   ]
  },
  {
   "cell_type": "markdown",
   "id": "b5fb7449",
   "metadata": {},
   "source": [
    "## 1.1 rename columns"
   ]
  },
  {
   "cell_type": "code",
   "execution_count": 4,
   "id": "a0d823ec",
   "metadata": {},
   "outputs": [],
   "source": [
    "df1.columns  = ['codigo', 'municipio', 'uf', 'municipio_uf', 'mes', '1996', '1997',\n",
    "       '1998', '1999', '2000', '2001', '2002', '2003', '2004', '2005', '2006',\n",
    "       '2007', '2008', '2009', '2010', '2011', '2012', '2013', '2014', '2015',\n",
    "       '2016', '2017', '2018', '2019', '2020', '2021', '2022', '2023', '2024',\n",
    "       '2025']"
   ]
  },
  {
   "cell_type": "markdown",
   "id": "f052d104",
   "metadata": {},
   "source": [
    "## 1.2 Data Dimensions"
   ]
  },
  {
   "cell_type": "code",
   "execution_count": 5,
   "id": "21d44715",
   "metadata": {},
   "outputs": [
    {
     "name": "stdout",
     "output_type": "stream",
     "text": [
      " Number of rows 66848\n",
      " Number of cols 35\n"
     ]
    }
   ],
   "source": [
    "print(\" Number of rows {}\".format( df1.shape[0] ) )\n",
    "print(\" Number of cols {}\".format( df1.shape[1] ) )"
   ]
  },
  {
   "cell_type": "markdown",
   "id": "ddc3d45a",
   "metadata": {},
   "source": [
    "## 1.3 Data Types"
   ]
  },
  {
   "cell_type": "code",
   "execution_count": 6,
   "id": "4e0f6f45",
   "metadata": {},
   "outputs": [
    {
     "data": {
      "text/plain": [
       "codigo          float64\n",
       "municipio        object\n",
       "uf               object\n",
       "municipio_uf     object\n",
       "mes             float64\n",
       "1996             object\n",
       "1997             object\n",
       "1998             object\n",
       "1999             object\n",
       "2000             object\n",
       "2001             object\n",
       "2002             object\n",
       "2003             object\n",
       "2004             object\n",
       "2005             object\n",
       "2006             object\n",
       "2007             object\n",
       "2008             object\n",
       "2009             object\n",
       "2010             object\n",
       "2011             object\n",
       "2012             object\n",
       "2013             object\n",
       "2014             object\n",
       "2015             object\n",
       "2016             object\n",
       "2017             object\n",
       "2018             object\n",
       "2019             object\n",
       "2020             object\n",
       "2021             object\n",
       "2022             object\n",
       "2023             object\n",
       "2024             object\n",
       "2025             object\n",
       "dtype: object"
      ]
     },
     "execution_count": 6,
     "metadata": {},
     "output_type": "execute_result"
    }
   ],
   "source": [
    "df1.dtypes\n"
   ]
  },
  {
   "cell_type": "markdown",
   "id": "f1392da8-7f7f-41fd-9569-dc37619673df",
   "metadata": {},
   "source": [
    "## 1.4 Check NA"
   ]
  },
  {
   "cell_type": "code",
   "execution_count": 7,
   "id": "d7005e0d",
   "metadata": {},
   "outputs": [
    {
     "data": {
      "text/plain": [
       "codigo          8\n",
       "municipio       8\n",
       "uf              8\n",
       "municipio_uf    8\n",
       "mes             8\n",
       "1996            8\n",
       "1997            8\n",
       "1998            8\n",
       "1999            8\n",
       "2000            8\n",
       "2001            8\n",
       "2002            8\n",
       "2003            8\n",
       "2004            8\n",
       "2005            8\n",
       "2006            8\n",
       "2007            8\n",
       "2008            8\n",
       "2009            8\n",
       "2010            8\n",
       "2011            8\n",
       "2012            8\n",
       "2013            8\n",
       "2014            8\n",
       "2015            8\n",
       "2016            8\n",
       "2017            8\n",
       "2018            8\n",
       "2019            8\n",
       "2020            8\n",
       "2021            8\n",
       "2022            8\n",
       "2023            8\n",
       "2024            8\n",
       "2025            8\n",
       "dtype: int64"
      ]
     },
     "execution_count": 7,
     "metadata": {},
     "output_type": "execute_result"
    }
   ],
   "source": [
    "df1.isna().sum()\n"
   ]
  },
  {
   "cell_type": "markdown",
   "id": "9dc983bc",
   "metadata": {},
   "source": [
    "# 2.0 Data Engineering"
   ]
  },
  {
   "cell_type": "code",
   "execution_count": 8,
   "id": "7a8f3594",
   "metadata": {},
   "outputs": [],
   "source": [
    "df2 = df1.copy()\n"
   ]
  },
  {
   "cell_type": "markdown",
   "id": "fd4e32c7",
   "metadata": {},
   "source": [
    "## 2.1 Data filtering"
   ]
  },
  {
   "cell_type": "code",
   "execution_count": 9,
   "id": "2cacaeca",
   "metadata": {},
   "outputs": [],
   "source": [
    "CODIGO_CATALAO = 9301\n",
    "\n",
    "df2 = df2[df2['codigo'] == CODIGO_CATALAO]\n"
   ]
  },
  {
   "cell_type": "markdown",
   "id": "7d813859",
   "metadata": {},
   "source": [
    "## 2.2 remove cols"
   ]
  },
  {
   "cell_type": "code",
   "execution_count": 10,
   "id": "286f10a4",
   "metadata": {},
   "outputs": [],
   "source": [
    "cols_to_remove = ['municipio', 'municipio_uf','uf']\n",
    "df2 = df2.drop(cols_to_remove, axis=1)"
   ]
  },
  {
   "cell_type": "markdown",
   "id": "0a1dd6bb",
   "metadata": {},
   "source": [
    "## 2.3 Data engineering"
   ]
  },
  {
   "cell_type": "code",
   "execution_count": 11,
   "id": "9cfa23d5",
   "metadata": {},
   "outputs": [],
   "source": [
    "## 2.4 Melt dos dados\n",
    "# Criando lista de colunas de anos\n",
    "anos = [str(ano) for ano in range(1996, 2026)]\n",
    "\n",
    "# Fazendo o melt dos dados\n",
    "df2 = pd.melt(df2, \n",
    "              id_vars=['codigo', 'mes'],\n",
    "              value_vars=anos,\n",
    "              var_name='ano',\n",
    "              value_name='valor')\n",
    "\n",
    "# Convertendo o ano para inteiro\n",
    "df2['ano'] = df2['ano'].astype(int)"
   ]
  },
  {
   "cell_type": "code",
   "execution_count": 12,
   "id": "687c5be7",
   "metadata": {},
   "outputs": [],
   "source": [
    "df2 = df2[df2['valor'] != ' -   ']"
   ]
  },
  {
   "cell_type": "code",
   "execution_count": 13,
   "id": "1557feaf",
   "metadata": {},
   "outputs": [],
   "source": [
    "# Convertendo o valor para float (removendo pontos e vírgulas)\n",
    "df2['valor'] = df2['valor'].str.replace('.', '').str.replace(',', '.').astype(float)"
   ]
  },
  {
   "cell_type": "code",
   "execution_count": 14,
   "id": "4da60c8a",
   "metadata": {},
   "outputs": [],
   "source": [
    "df2[\"mes\"] = df2[\"mes\"].astype(int)"
   ]
  },
  {
   "cell_type": "code",
   "execution_count": 15,
   "id": "69eaa389",
   "metadata": {},
   "outputs": [
    {
     "data": {
      "text/html": [
       "<div>\n",
       "<style scoped>\n",
       "    .dataframe tbody tr th:only-of-type {\n",
       "        vertical-align: middle;\n",
       "    }\n",
       "\n",
       "    .dataframe tbody tr th {\n",
       "        vertical-align: top;\n",
       "    }\n",
       "\n",
       "    .dataframe thead th {\n",
       "        text-align: right;\n",
       "    }\n",
       "</style>\n",
       "<table border=\"1\" class=\"dataframe\">\n",
       "  <thead>\n",
       "    <tr style=\"text-align: right;\">\n",
       "      <th></th>\n",
       "      <th>codigo</th>\n",
       "      <th>mes</th>\n",
       "      <th>ano</th>\n",
       "      <th>valor</th>\n",
       "      <th>data</th>\n",
       "    </tr>\n",
       "  </thead>\n",
       "  <tbody>\n",
       "    <tr>\n",
       "      <th>0</th>\n",
       "      <td>9301.0</td>\n",
       "      <td>1</td>\n",
       "      <td>1996</td>\n",
       "      <td>260380.68</td>\n",
       "      <td>1996-01-01</td>\n",
       "    </tr>\n",
       "    <tr>\n",
       "      <th>1</th>\n",
       "      <td>9301.0</td>\n",
       "      <td>2</td>\n",
       "      <td>1996</td>\n",
       "      <td>264623.42</td>\n",
       "      <td>1996-02-01</td>\n",
       "    </tr>\n",
       "    <tr>\n",
       "      <th>2</th>\n",
       "      <td>9301.0</td>\n",
       "      <td>3</td>\n",
       "      <td>1996</td>\n",
       "      <td>229935.32</td>\n",
       "      <td>1996-03-01</td>\n",
       "    </tr>\n",
       "    <tr>\n",
       "      <th>3</th>\n",
       "      <td>9301.0</td>\n",
       "      <td>4</td>\n",
       "      <td>1996</td>\n",
       "      <td>405094.47</td>\n",
       "      <td>1996-04-01</td>\n",
       "    </tr>\n",
       "    <tr>\n",
       "      <th>4</th>\n",
       "      <td>9301.0</td>\n",
       "      <td>5</td>\n",
       "      <td>1996</td>\n",
       "      <td>260597.71</td>\n",
       "      <td>1996-05-01</td>\n",
       "    </tr>\n",
       "  </tbody>\n",
       "</table>\n",
       "</div>"
      ],
      "text/plain": [
       "   codigo  mes   ano      valor       data\n",
       "0  9301.0    1  1996  260380.68 1996-01-01\n",
       "1  9301.0    2  1996  264623.42 1996-02-01\n",
       "2  9301.0    3  1996  229935.32 1996-03-01\n",
       "3  9301.0    4  1996  405094.47 1996-04-01\n",
       "4  9301.0    5  1996  260597.71 1996-05-01"
      ]
     },
     "execution_count": 15,
     "metadata": {},
     "output_type": "execute_result"
    }
   ],
   "source": [
    "df2['data'] = df2['ano'].astype(str) + '-' + df2['mes'].astype(str)\n",
    "df2['data'] = pd.to_datetime(df2['data'])\n",
    "df2.head()"
   ]
  },
  {
   "cell_type": "code",
   "execution_count": 16,
   "id": "fe21388b",
   "metadata": {},
   "outputs": [],
   "source": [
    "# Ordenando os dados\n",
    "df2 = df2.sort_values(['ano', 'mes'])"
   ]
  },
  {
   "cell_type": "markdown",
   "id": "63879f7b",
   "metadata": {},
   "source": [
    "# 3.0 Exploratory Data Analysis\n"
   ]
  },
  {
   "cell_type": "code",
   "execution_count": 17,
   "id": "cdfbe4f6",
   "metadata": {},
   "outputs": [],
   "source": [
    "df3 = df2.copy()\n"
   ]
  },
  {
   "cell_type": "markdown",
   "id": "d2a902a2",
   "metadata": {},
   "source": [
    "##  3.1 Univariate Analysis"
   ]
  },
  {
   "cell_type": "markdown",
   "id": "e3d62bcb",
   "metadata": {},
   "source": [
    "### 3.1.1 Response Variable"
   ]
  },
  {
   "cell_type": "code",
   "execution_count": 18,
   "id": "81d7feb5",
   "metadata": {},
   "outputs": [
    {
     "data": {
      "text/plain": [
       "<seaborn.axisgrid.FacetGrid at 0x23fb53f5a00>"
      ]
     },
     "execution_count": 18,
     "metadata": {},
     "output_type": "execute_result"
    },
    {
     "data": {
      "image/png": "[encoded data removed]",
      "text/plain": [
       "<Figure size 500x500 with 1 Axes>"
      ]
     },
     "metadata": {},
     "output_type": "display_data"
    }
   ],
   "source": [
    "sns.displot(df3[\"valor\"])"
   ]
  },
  {
   "cell_type": "markdown",
   "id": "c4b521b1",
   "metadata": {},
   "source": [
    "Observações: \n",
    "- Distribuição de cauda longa para a variável que queremos prever"
   ]
  },
  {
   "cell_type": "code",
   "execution_count": 19,
   "id": "caa01a19",
   "metadata": {},
   "outputs": [
    {
     "data": {
      "text/plain": [
       "<Axes: xlabel='data', ylabel='valor'>"
      ]
     },
     "execution_count": 19,
     "metadata": {},
     "output_type": "execute_result"
    },
    {
     "data": {
      "image/png": "[encoded data removed]",
      "text/plain": [
       "<Figure size 640x480 with 1 Axes>"
      ]
     },
     "metadata": {},
     "output_type": "display_data"
    }
   ],
   "source": [
    "sns.lineplot(x=\"data\", y=\"valor\", data=df3)"
   ]
  },
  {
   "cell_type": "markdown",
   "id": "9ce83cb0",
   "metadata": {},
   "source": [
    "# 4.0 Data Preparation"
   ]
  },
  {
   "cell_type": "code",
   "execution_count": 20,
   "id": "4cdf161f",
   "metadata": {},
   "outputs": [],
   "source": [
    "df4 = df3.copy()"
   ]
  },
  {
   "cell_type": "markdown",
   "id": "f58e33a5",
   "metadata": {},
   "source": [
    "# 5.0 Feature Selection"
   ]
  },
  {
   "cell_type": "code",
   "execution_count": 21,
   "id": "4e642831",
   "metadata": {},
   "outputs": [],
   "source": [
    "df5 = df4.copy()"
   ]
  },
  {
   "cell_type": "markdown",
   "id": "07edf516",
   "metadata": {},
   "source": [
    "##  5.1 Split training and test"
   ]
  },
  {
   "cell_type": "code",
   "execution_count": 22,
   "id": "18f000cb",
   "metadata": {},
   "outputs": [
    {
     "name": "stdout",
     "output_type": "stream",
     "text": [
      "Dados de treino com range de data:  1996-01-01 00:00:00 a 2019-05-01 00:00:00\n",
      "Dados de teste com range de data:  2019-06-01 00:00:00 a 2025-04-01 00:00:00\n"
     ]
    }
   ],
   "source": [
    "X_train, X_test, y_train, y_test = split_temporal_data(df5)\n",
    "\n",
    "# Para o cross validation, vamos usar X_train que ainda tem a coluna 'data' e a coluna 'valor'\n",
    "X_train_cv = pd.concat([X_train, y_train], axis=1)\n",
    "print(\"Dados de treino com range de data: \", X_train[\"data\"].min(), \"a\", X_train[\"data\"].max())\n",
    "\n",
    "print(\"Dados de teste com range de data: \", X_test[\"data\"].min(), \"a\", X_test[\"data\"].max())\n",
    "\n"
   ]
  },
  {
   "cell_type": "markdown",
   "id": "79b23f9f",
   "metadata": {},
   "source": [
    "# 6.0 Machine Learning"
   ]
  },
  {
   "cell_type": "code",
   "execution_count": null,
   "id": "29d646d0",
   "metadata": {},
   "outputs": [],
   "source": []
  },
  {
   "cell_type": "markdown",
   "id": "3d9e201d",
   "metadata": {},
   "source": [
    "## 6.1 Base Line - Average Model"
   ]
  },
  {
   "cell_type": "code",
   "execution_count": 23,
   "id": "e01fa5a1",
   "metadata": {},
   "outputs": [],
   "source": [
    "# Para o baseline, vamos usar X_test que ainda tem a coluna 'data'\n",
    "aux1 = X_test.copy()\n",
    "aux1[\"valor\"] = y_test.copy()"
   ]
  },
  {
   "cell_type": "code",
   "execution_count": 24,
   "id": "5d5a2f5e",
   "metadata": {},
   "outputs": [],
   "source": [
    "aux2 = aux1[['ano','valor']].groupby('ano').mean().reset_index().rename(columns={'valor':'predictions'})"
   ]
  },
  {
   "cell_type": "code",
   "execution_count": 25,
   "id": "fbcb231d",
   "metadata": {},
   "outputs": [],
   "source": [
    "aux1 = pd.merge(aux1,aux2 ,on='ano', how='left')"
   ]
  },
  {
   "cell_type": "code",
   "execution_count": 26,
   "id": "f6a1d75a",
   "metadata": {},
   "outputs": [],
   "source": [
    "yhat_baseline = aux1['predictions']"
   ]
  },
  {
   "cell_type": "code",
   "execution_count": 27,
   "id": "215b2681",
   "metadata": {},
   "outputs": [],
   "source": [
    "baseline_result = ml_error(\"Baseline - Average Model\", y_test.to_numpy(),yhat_baseline.to_numpy())"
   ]
  },
  {
   "cell_type": "code",
   "execution_count": 28,
   "id": "2f39c16f",
   "metadata": {},
   "outputs": [
    {
     "data": {
      "text/html": [
       "<div>\n",
       "<style scoped>\n",
       "    .dataframe tbody tr th:only-of-type {\n",
       "        vertical-align: middle;\n",
       "    }\n",
       "\n",
       "    .dataframe tbody tr th {\n",
       "        vertical-align: top;\n",
       "    }\n",
       "\n",
       "    .dataframe thead th {\n",
       "        text-align: right;\n",
       "    }\n",
       "</style>\n",
       "<table border=\"1\" class=\"dataframe\">\n",
       "  <thead>\n",
       "    <tr style=\"text-align: right;\">\n",
       "      <th></th>\n",
       "      <th>Model Name</th>\n",
       "      <th>MAE</th>\n",
       "      <th>MAPE</th>\n",
       "      <th>RMSE</th>\n",
       "      <th>MPE</th>\n",
       "    </tr>\n",
       "  </thead>\n",
       "  <tbody>\n",
       "    <tr>\n",
       "      <th>0</th>\n",
       "      <td>Baseline - Average Model</td>\n",
       "      <td>932688.16</td>\n",
       "      <td>0.21</td>\n",
       "      <td>1206097.24</td>\n",
       "      <td>-0.06</td>\n",
       "    </tr>\n",
       "  </tbody>\n",
       "</table>\n",
       "</div>"
      ],
      "text/plain": [
       "                 Model Name        MAE  MAPE        RMSE   MPE\n",
       "0  Baseline - Average Model  932688.16  0.21  1206097.24 -0.06"
      ]
     },
     "execution_count": 28,
     "metadata": {},
     "output_type": "execute_result"
    }
   ],
   "source": [
    "baseline_result"
   ]
  },
  {
   "cell_type": "markdown",
   "id": "b7b05390",
   "metadata": {},
   "source": [
    "## 6.2 Machine Learning models"
   ]
  },
  {
   "cell_type": "code",
   "execution_count": 29,
   "id": "6cd112ea",
   "metadata": {},
   "outputs": [
    {
     "name": "stdout",
     "output_type": "stream",
     "text": [
      "Training LinearRegression ...\n",
      "Training Lasso ...\n",
      "Training RandomForestRegressor ...\n",
      "Training KNeighborsRegressor ...\n",
      "Training CatBoostRegressor ...\n",
      "Training XGBRFRegressor ...\n"
     ]
    }
   ],
   "source": [
    "# Removendo a coluna 'data' que não deve ser usada como feature\n",
    "# (ela é datetime e causava o erro de DTypePromotionError)\n",
    "X_train_clean = X_train.drop(['data'], axis=1)\n",
    "X_test_clean = X_test.drop(['data'], axis=1)\n",
    "\n",
    "#define models\n",
    "lr  = LinearRegression( )\n",
    "lrr = Lasso( alpha=0.01 )\n",
    "rf  = RandomForestRegressor( n_estimators = 20, n_jobs=-1, random_state = 42) \n",
    "knr = KNeighborsRegressor( n_neighbors = 2)\n",
    "cat = CatBoostRegressor(verbose=False)\n",
    "xgb = xgb.XGBRFRegressor()\n",
    "\n",
    "\n",
    "models= [lr , lrr, rf ,  knr,  cat, xgb]\n",
    "#prediction\n",
    "df_performance , yhat = get_model_performance(models, X_train_clean, y_train, X_test_clean, y_test )\n",
    "df_performance = pd.concat([df_performance ,  baseline_result ]).reset_index().drop( 'index', axis=1)"
   ]
  },
  {
   "cell_type": "code",
   "execution_count": 30,
   "id": "f6cc3e69",
   "metadata": {},
   "outputs": [
    {
     "data": {
      "text/html": [
       "<style type=\"text/css\">\n",
       "#T_ac320_row6_col0, #T_ac320_row6_col1, #T_ac320_row6_col2, #T_ac320_row6_col3, #T_ac320_row6_col4 {\n",
       "  background-color: darkblue;\n",
       "}\n",
       "</style>\n",
       "<table id=\"T_ac320\">\n",
       "  <thead>\n",
       "    <tr>\n",
       "      <th class=\"blank level0\" >&nbsp;</th>\n",
       "      <th id=\"T_ac320_level0_col0\" class=\"col_heading level0 col0\" >Model Name</th>\n",
       "      <th id=\"T_ac320_level0_col1\" class=\"col_heading level0 col1\" >MAE</th>\n",
       "      <th id=\"T_ac320_level0_col2\" class=\"col_heading level0 col2\" >MAPE</th>\n",
       "      <th id=\"T_ac320_level0_col3\" class=\"col_heading level0 col3\" >RMSE</th>\n",
       "      <th id=\"T_ac320_level0_col4\" class=\"col_heading level0 col4\" >MPE</th>\n",
       "    </tr>\n",
       "  </thead>\n",
       "  <tbody>\n",
       "    <tr>\n",
       "      <th id=\"T_ac320_level0_row0\" class=\"row_heading level0 row0\" >0</th>\n",
       "      <td id=\"T_ac320_row0_col0\" class=\"data row0 col0\" >LinearRegression</td>\n",
       "      <td id=\"T_ac320_row0_col1\" class=\"data row0 col1\" >1644188.780000</td>\n",
       "      <td id=\"T_ac320_row0_col2\" class=\"data row0 col2\" >0.310000</td>\n",
       "      <td id=\"T_ac320_row0_col3\" class=\"data row0 col3\" >2130383.870000</td>\n",
       "      <td id=\"T_ac320_row0_col4\" class=\"data row0 col4\" >0.250000</td>\n",
       "    </tr>\n",
       "    <tr>\n",
       "      <th id=\"T_ac320_level0_row1\" class=\"row_heading level0 row1\" >1</th>\n",
       "      <td id=\"T_ac320_row1_col0\" class=\"data row1 col0\" >Lasso</td>\n",
       "      <td id=\"T_ac320_row1_col1\" class=\"data row1 col1\" >1644188.780000</td>\n",
       "      <td id=\"T_ac320_row1_col2\" class=\"data row1 col2\" >0.310000</td>\n",
       "      <td id=\"T_ac320_row1_col3\" class=\"data row1 col3\" >2130383.870000</td>\n",
       "      <td id=\"T_ac320_row1_col4\" class=\"data row1 col4\" >0.250000</td>\n",
       "    </tr>\n",
       "    <tr>\n",
       "      <th id=\"T_ac320_level0_row2\" class=\"row_heading level0 row2\" >2</th>\n",
       "      <td id=\"T_ac320_row2_col0\" class=\"data row2 col0\" >RandomForestRegressor</td>\n",
       "      <td id=\"T_ac320_row2_col1\" class=\"data row2 col1\" >1608781.940000</td>\n",
       "      <td id=\"T_ac320_row2_col2\" class=\"data row2 col2\" >0.310000</td>\n",
       "      <td id=\"T_ac320_row2_col3\" class=\"data row2 col3\" >1978457.240000</td>\n",
       "      <td id=\"T_ac320_row2_col4\" class=\"data row2 col4\" >0.260000</td>\n",
       "    </tr>\n",
       "    <tr>\n",
       "      <th id=\"T_ac320_level0_row3\" class=\"row_heading level0 row3\" >3</th>\n",
       "      <td id=\"T_ac320_row3_col0\" class=\"data row3 col0\" >KNeighborsRegressor</td>\n",
       "      <td id=\"T_ac320_row3_col1\" class=\"data row3 col1\" >1812725.840000</td>\n",
       "      <td id=\"T_ac320_row3_col2\" class=\"data row3 col2\" >0.350000</td>\n",
       "      <td id=\"T_ac320_row3_col3\" class=\"data row3 col3\" >2226456.450000</td>\n",
       "      <td id=\"T_ac320_row3_col4\" class=\"data row3 col4\" >0.300000</td>\n",
       "    </tr>\n",
       "    <tr>\n",
       "      <th id=\"T_ac320_level0_row4\" class=\"row_heading level0 row4\" >4</th>\n",
       "      <td id=\"T_ac320_row4_col0\" class=\"data row4 col0\" >CatBoostRegressor</td>\n",
       "      <td id=\"T_ac320_row4_col1\" class=\"data row4 col1\" >1616129.120000</td>\n",
       "      <td id=\"T_ac320_row4_col2\" class=\"data row4 col2\" >0.310000</td>\n",
       "      <td id=\"T_ac320_row4_col3\" class=\"data row4 col3\" >1989932.760000</td>\n",
       "      <td id=\"T_ac320_row4_col4\" class=\"data row4 col4\" >0.270000</td>\n",
       "    </tr>\n",
       "    <tr>\n",
       "      <th id=\"T_ac320_level0_row5\" class=\"row_heading level0 row5\" >5</th>\n",
       "      <td id=\"T_ac320_row5_col0\" class=\"data row5 col0\" >XGBRFRegressor</td>\n",
       "      <td id=\"T_ac320_row5_col1\" class=\"data row5 col1\" >1738858.200000</td>\n",
       "      <td id=\"T_ac320_row5_col2\" class=\"data row5 col2\" >0.330000</td>\n",
       "      <td id=\"T_ac320_row5_col3\" class=\"data row5 col3\" >2137284.210000</td>\n",
       "      <td id=\"T_ac320_row5_col4\" class=\"data row5 col4\" >0.300000</td>\n",
       "    </tr>\n",
       "    <tr>\n",
       "      <th id=\"T_ac320_level0_row6\" class=\"row_heading level0 row6\" >6</th>\n",
       "      <td id=\"T_ac320_row6_col0\" class=\"data row6 col0\" >Baseline - Average Model</td>\n",
       "      <td id=\"T_ac320_row6_col1\" class=\"data row6 col1\" >932688.160000</td>\n",
       "      <td id=\"T_ac320_row6_col2\" class=\"data row6 col2\" >0.210000</td>\n",
       "      <td id=\"T_ac320_row6_col3\" class=\"data row6 col3\" >1206097.240000</td>\n",
       "      <td id=\"T_ac320_row6_col4\" class=\"data row6 col4\" >-0.060000</td>\n",
       "    </tr>\n",
       "  </tbody>\n",
       "</table>\n"
      ],
      "text/plain": [
       "<pandas.io.formats.style.Styler at 0x23fb38c4bf0>"
      ]
     },
     "execution_count": 30,
     "metadata": {},
     "output_type": "execute_result"
    }
   ],
   "source": [
    "df_performance.style.highlight_min(color='darkblue')"
   ]
  },
  {
   "cell_type": "markdown",
   "id": "95ba2d3c",
   "metadata": {},
   "source": [
    "## 6.3 Cross Validation"
   ]
  },
  {
   "cell_type": "code",
   "execution_count": 31,
   "id": "8ad46e51",
   "metadata": {},
   "outputs": [
    {
     "name": "stdout",
     "output_type": "stream",
     "text": [
      "Training... LinearRegression...\n",
      "Iteration 5 - Validating from 2016-11-01 to 2017-05-01\n",
      "Iteration 4 - Validating from 2017-05-01 to 2017-11-01\n",
      "Iteration 3 - Validating from 2017-11-01 to 2018-05-01\n",
      "Iteration 2 - Validating from 2018-05-01 to 2018-11-01\n",
      "Iteration 1 - Validating from 2018-11-01 to 2019-05-01\n",
      "Training... Lasso...\n",
      "Iteration 5 - Validating from 2016-11-01 to 2017-05-01\n",
      "Iteration 4 - Validating from 2017-05-01 to 2017-11-01\n",
      "Iteration 3 - Validating from 2017-11-01 to 2018-05-01\n",
      "Iteration 2 - Validating from 2018-05-01 to 2018-11-01\n",
      "Iteration 1 - Validating from 2018-11-01 to 2019-05-01\n",
      "Training... RandomForestRegressor...\n",
      "Iteration 5 - Validating from 2016-11-01 to 2017-05-01\n",
      "Iteration 4 - Validating from 2017-05-01 to 2017-11-01\n",
      "Iteration 3 - Validating from 2017-11-01 to 2018-05-01\n",
      "Iteration 2 - Validating from 2018-05-01 to 2018-11-01\n",
      "Iteration 1 - Validating from 2018-11-01 to 2019-05-01\n",
      "Training... KNeighborsRegressor...\n",
      "Iteration 5 - Validating from 2016-11-01 to 2017-05-01\n",
      "Iteration 4 - Validating from 2017-05-01 to 2017-11-01\n",
      "Iteration 3 - Validating from 2017-11-01 to 2018-05-01\n",
      "Iteration 2 - Validating from 2018-05-01 to 2018-11-01\n",
      "Iteration 1 - Validating from 2018-11-01 to 2019-05-01\n",
      "Training... CatBoostRegressor...\n",
      "Iteration 5 - Validating from 2016-11-01 to 2017-05-01\n",
      "Iteration 4 - Validating from 2017-05-01 to 2017-11-01\n",
      "Iteration 3 - Validating from 2017-11-01 to 2018-05-01\n",
      "Iteration 2 - Validating from 2018-05-01 to 2018-11-01\n",
      "Iteration 1 - Validating from 2018-11-01 to 2019-05-01\n",
      "Training... XGBRFRegressor...\n",
      "Iteration 5 - Validating from 2016-11-01 to 2017-05-01\n",
      "Iteration 4 - Validating from 2017-05-01 to 2017-11-01\n",
      "Iteration 3 - Validating from 2017-11-01 to 2018-05-01\n",
      "Iteration 2 - Validating from 2018-05-01 to 2018-11-01\n",
      "Iteration 1 - Validating from 2018-11-01 to 2019-05-01\n"
     ]
    }
   ],
   "source": [
    "df_cross = models_cross_validation(models, X_train_cv)"
   ]
  },
  {
   "cell_type": "code",
   "execution_count": 32,
   "id": "c8fa8d30",
   "metadata": {},
   "outputs": [
    {
     "data": {
      "text/html": [
       "<div>\n",
       "<style scoped>\n",
       "    .dataframe tbody tr th:only-of-type {\n",
       "        vertical-align: middle;\n",
       "    }\n",
       "\n",
       "    .dataframe tbody tr th {\n",
       "        vertical-align: top;\n",
       "    }\n",
       "\n",
       "    .dataframe thead th {\n",
       "        text-align: right;\n",
       "    }\n",
       "</style>\n",
       "<table border=\"1\" class=\"dataframe\">\n",
       "  <thead>\n",
       "    <tr style=\"text-align: right;\">\n",
       "      <th></th>\n",
       "      <th>Model Name</th>\n",
       "      <th>MAE</th>\n",
       "      <th>MAPE</th>\n",
       "      <th>RMSE</th>\n",
       "      <th>MPE</th>\n",
       "    </tr>\n",
       "  </thead>\n",
       "  <tbody>\n",
       "    <tr>\n",
       "      <th>0</th>\n",
       "      <td>LinearRegression  KFold: 5</td>\n",
       "      <td>1030468.96</td>\n",
       "      <td>0.25</td>\n",
       "      <td>1598395.52</td>\n",
       "      <td>0.21</td>\n",
       "    </tr>\n",
       "    <tr>\n",
       "      <th>1</th>\n",
       "      <td>LinearRegression  KFold: 4</td>\n",
       "      <td>441211.66</td>\n",
       "      <td>0.18</td>\n",
       "      <td>539414.02</td>\n",
       "      <td>-0.04</td>\n",
       "    </tr>\n",
       "    <tr>\n",
       "      <th>2</th>\n",
       "      <td>LinearRegression  KFold: 3</td>\n",
       "      <td>640822.84</td>\n",
       "      <td>0.18</td>\n",
       "      <td>897481.75</td>\n",
       "      <td>0.14</td>\n",
       "    </tr>\n",
       "    <tr>\n",
       "      <th>3</th>\n",
       "      <td>LinearRegression  KFold: 2</td>\n",
       "      <td>487032.95</td>\n",
       "      <td>0.18</td>\n",
       "      <td>598871.72</td>\n",
       "      <td>0.01</td>\n",
       "    </tr>\n",
       "    <tr>\n",
       "      <th>4</th>\n",
       "      <td>LinearRegression  KFold: 1</td>\n",
       "      <td>740935.4</td>\n",
       "      <td>0.19</td>\n",
       "      <td>1070005.21</td>\n",
       "      <td>0.19</td>\n",
       "    </tr>\n",
       "    <tr>\n",
       "      <th>5</th>\n",
       "      <td>LinearRegression - Cross-Validation</td>\n",
       "      <td>668094.36 +/- 210534.51</td>\n",
       "      <td>0.2 +/- 0.03</td>\n",
       "      <td>940833.64 +/- 381844.99</td>\n",
       "      <td>0.1 +/- 0.1</td>\n",
       "    </tr>\n",
       "    <tr>\n",
       "      <th>6</th>\n",
       "      <td>Lasso  KFold: 5</td>\n",
       "      <td>1030468.96</td>\n",
       "      <td>0.25</td>\n",
       "      <td>1598395.53</td>\n",
       "      <td>0.21</td>\n",
       "    </tr>\n",
       "    <tr>\n",
       "      <th>7</th>\n",
       "      <td>Lasso  KFold: 4</td>\n",
       "      <td>441211.66</td>\n",
       "      <td>0.18</td>\n",
       "      <td>539414.02</td>\n",
       "      <td>-0.04</td>\n",
       "    </tr>\n",
       "    <tr>\n",
       "      <th>8</th>\n",
       "      <td>Lasso  KFold: 3</td>\n",
       "      <td>640822.84</td>\n",
       "      <td>0.18</td>\n",
       "      <td>897481.75</td>\n",
       "      <td>0.14</td>\n",
       "    </tr>\n",
       "    <tr>\n",
       "      <th>9</th>\n",
       "      <td>Lasso  KFold: 2</td>\n",
       "      <td>487032.95</td>\n",
       "      <td>0.18</td>\n",
       "      <td>598871.72</td>\n",
       "      <td>0.01</td>\n",
       "    </tr>\n",
       "    <tr>\n",
       "      <th>10</th>\n",
       "      <td>Lasso  KFold: 1</td>\n",
       "      <td>740935.4</td>\n",
       "      <td>0.19</td>\n",
       "      <td>1070005.22</td>\n",
       "      <td>0.19</td>\n",
       "    </tr>\n",
       "    <tr>\n",
       "      <th>11</th>\n",
       "      <td>Lasso - Cross-Validation</td>\n",
       "      <td>668094.36 +/- 210534.51</td>\n",
       "      <td>0.2 +/- 0.03</td>\n",
       "      <td>940833.65 +/- 381844.99</td>\n",
       "      <td>0.1 +/- 0.1</td>\n",
       "    </tr>\n",
       "    <tr>\n",
       "      <th>12</th>\n",
       "      <td>RandomForestRegressor  KFold: 5</td>\n",
       "      <td>667978.62</td>\n",
       "      <td>0.16</td>\n",
       "      <td>1084213.36</td>\n",
       "      <td>0.16</td>\n",
       "    </tr>\n",
       "    <tr>\n",
       "      <th>13</th>\n",
       "      <td>RandomForestRegressor  KFold: 4</td>\n",
       "      <td>329849.83</td>\n",
       "      <td>0.13</td>\n",
       "      <td>557761.68</td>\n",
       "      <td>-0.03</td>\n",
       "    </tr>\n",
       "    <tr>\n",
       "      <th>14</th>\n",
       "      <td>RandomForestRegressor  KFold: 3</td>\n",
       "      <td>481817.28</td>\n",
       "      <td>0.16</td>\n",
       "      <td>552045.17</td>\n",
       "      <td>0.01</td>\n",
       "    </tr>\n",
       "    <tr>\n",
       "      <th>15</th>\n",
       "      <td>RandomForestRegressor  KFold: 2</td>\n",
       "      <td>302326.38</td>\n",
       "      <td>0.11</td>\n",
       "      <td>344883.12</td>\n",
       "      <td>0.09</td>\n",
       "    </tr>\n",
       "    <tr>\n",
       "      <th>16</th>\n",
       "      <td>RandomForestRegressor  KFold: 1</td>\n",
       "      <td>329283.82</td>\n",
       "      <td>0.1</td>\n",
       "      <td>341274.07</td>\n",
       "      <td>0.1</td>\n",
       "    </tr>\n",
       "    <tr>\n",
       "      <th>17</th>\n",
       "      <td>RandomForestRegressor - Cross-Validation</td>\n",
       "      <td>422251.19 +/- 138197.68</td>\n",
       "      <td>0.13 +/- 0.02</td>\n",
       "      <td>576035.48 +/- 271182.06</td>\n",
       "      <td>0.07 +/- 0.07</td>\n",
       "    </tr>\n",
       "    <tr>\n",
       "      <th>18</th>\n",
       "      <td>KNeighborsRegressor  KFold: 5</td>\n",
       "      <td>922629.81</td>\n",
       "      <td>0.24</td>\n",
       "      <td>1357950.39</td>\n",
       "      <td>0.17</td>\n",
       "    </tr>\n",
       "    <tr>\n",
       "      <th>19</th>\n",
       "      <td>KNeighborsRegressor  KFold: 4</td>\n",
       "      <td>349983.0</td>\n",
       "      <td>0.14</td>\n",
       "      <td>491059.39</td>\n",
       "      <td>0.03</td>\n",
       "    </tr>\n",
       "    <tr>\n",
       "      <th>20</th>\n",
       "      <td>KNeighborsRegressor  KFold: 3</td>\n",
       "      <td>398132.52</td>\n",
       "      <td>0.14</td>\n",
       "      <td>504372.84</td>\n",
       "      <td>-0.02</td>\n",
       "    </tr>\n",
       "    <tr>\n",
       "      <th>21</th>\n",
       "      <td>KNeighborsRegressor  KFold: 2</td>\n",
       "      <td>389328.72</td>\n",
       "      <td>0.14</td>\n",
       "      <td>441982.29</td>\n",
       "      <td>0.09</td>\n",
       "    </tr>\n",
       "    <tr>\n",
       "      <th>22</th>\n",
       "      <td>KNeighborsRegressor  KFold: 1</td>\n",
       "      <td>578162.0</td>\n",
       "      <td>0.16</td>\n",
       "      <td>777964.2</td>\n",
       "      <td>0.13</td>\n",
       "    </tr>\n",
       "    <tr>\n",
       "      <th>23</th>\n",
       "      <td>KNeighborsRegressor - Cross-Validation</td>\n",
       "      <td>527647.21 +/- 212618.73</td>\n",
       "      <td>0.16 +/- 0.04</td>\n",
       "      <td>714665.82 +/- 342461.97</td>\n",
       "      <td>0.08 +/- 0.07</td>\n",
       "    </tr>\n",
       "    <tr>\n",
       "      <th>24</th>\n",
       "      <td>CatBoostRegressor  KFold: 5</td>\n",
       "      <td>710407.13</td>\n",
       "      <td>0.17</td>\n",
       "      <td>1130561.82</td>\n",
       "      <td>0.17</td>\n",
       "    </tr>\n",
       "    <tr>\n",
       "      <th>25</th>\n",
       "      <td>CatBoostRegressor  KFold: 4</td>\n",
       "      <td>349672.6</td>\n",
       "      <td>0.14</td>\n",
       "      <td>625236.27</td>\n",
       "      <td>-0.06</td>\n",
       "    </tr>\n",
       "    <tr>\n",
       "      <th>26</th>\n",
       "      <td>CatBoostRegressor  KFold: 3</td>\n",
       "      <td>568584.49</td>\n",
       "      <td>0.2</td>\n",
       "      <td>665808.56</td>\n",
       "      <td>-0.02</td>\n",
       "    </tr>\n",
       "    <tr>\n",
       "      <th>27</th>\n",
       "      <td>CatBoostRegressor  KFold: 2</td>\n",
       "      <td>248527.65</td>\n",
       "      <td>0.08</td>\n",
       "      <td>298791.96</td>\n",
       "      <td>0.08</td>\n",
       "    </tr>\n",
       "    <tr>\n",
       "      <th>28</th>\n",
       "      <td>CatBoostRegressor  KFold: 1</td>\n",
       "      <td>391753.19</td>\n",
       "      <td>0.11</td>\n",
       "      <td>475591.11</td>\n",
       "      <td>0.11</td>\n",
       "    </tr>\n",
       "    <tr>\n",
       "      <th>29</th>\n",
       "      <td>CatBoostRegressor - Cross-Validation</td>\n",
       "      <td>453789.01 +/- 164834.32</td>\n",
       "      <td>0.14 +/- 0.04</td>\n",
       "      <td>639197.94 +/- 277483.31</td>\n",
       "      <td>0.06 +/- 0.08</td>\n",
       "    </tr>\n",
       "    <tr>\n",
       "      <th>30</th>\n",
       "      <td>XGBRFRegressor  KFold: 5</td>\n",
       "      <td>818755.67</td>\n",
       "      <td>0.2</td>\n",
       "      <td>1249634.95</td>\n",
       "      <td>0.18</td>\n",
       "    </tr>\n",
       "    <tr>\n",
       "      <th>31</th>\n",
       "      <td>XGBRFRegressor  KFold: 4</td>\n",
       "      <td>451351.87</td>\n",
       "      <td>0.18</td>\n",
       "      <td>620006.96</td>\n",
       "      <td>0.0</td>\n",
       "    </tr>\n",
       "    <tr>\n",
       "      <th>32</th>\n",
       "      <td>XGBRFRegressor  KFold: 3</td>\n",
       "      <td>459846.39</td>\n",
       "      <td>0.17</td>\n",
       "      <td>573443.19</td>\n",
       "      <td>0.01</td>\n",
       "    </tr>\n",
       "    <tr>\n",
       "      <th>33</th>\n",
       "      <td>XGBRFRegressor  KFold: 2</td>\n",
       "      <td>406853.75</td>\n",
       "      <td>0.14</td>\n",
       "      <td>526183.31</td>\n",
       "      <td>0.09</td>\n",
       "    </tr>\n",
       "    <tr>\n",
       "      <th>34</th>\n",
       "      <td>XGBRFRegressor  KFold: 1</td>\n",
       "      <td>415800.12</td>\n",
       "      <td>0.11</td>\n",
       "      <td>512389.25</td>\n",
       "      <td>0.11</td>\n",
       "    </tr>\n",
       "    <tr>\n",
       "      <th>35</th>\n",
       "      <td>XGBRFRegressor - Cross-Validation</td>\n",
       "      <td>510521.56 +/- 155432.59</td>\n",
       "      <td>0.16 +/- 0.03</td>\n",
       "      <td>696331.53 +/- 279233.54</td>\n",
       "      <td>0.08 +/- 0.07</td>\n",
       "    </tr>\n",
       "  </tbody>\n",
       "</table>\n",
       "</div>"
      ],
      "text/plain": [
       "                                   Model Name                      MAE  \\\n",
       "0                  LinearRegression  KFold: 5               1030468.96   \n",
       "1                  LinearRegression  KFold: 4                441211.66   \n",
       "2                  LinearRegression  KFold: 3                640822.84   \n",
       "3                  LinearRegression  KFold: 2                487032.95   \n",
       "4                  LinearRegression  KFold: 1                 740935.4   \n",
       "5        LinearRegression - Cross-Validation   668094.36 +/- 210534.51   \n",
       "6                             Lasso  KFold: 5               1030468.96   \n",
       "7                             Lasso  KFold: 4                441211.66   \n",
       "8                             Lasso  KFold: 3                640822.84   \n",
       "9                             Lasso  KFold: 2                487032.95   \n",
       "10                            Lasso  KFold: 1                 740935.4   \n",
       "11                  Lasso - Cross-Validation   668094.36 +/- 210534.51   \n",
       "12            RandomForestRegressor  KFold: 5                667978.62   \n",
       "13            RandomForestRegressor  KFold: 4                329849.83   \n",
       "14            RandomForestRegressor  KFold: 3                481817.28   \n",
       "15            RandomForestRegressor  KFold: 2                302326.38   \n",
       "16            RandomForestRegressor  KFold: 1                329283.82   \n",
       "17  RandomForestRegressor - Cross-Validation   422251.19 +/- 138197.68   \n",
       "18              KNeighborsRegressor  KFold: 5                922629.81   \n",
       "19              KNeighborsRegressor  KFold: 4                 349983.0   \n",
       "20              KNeighborsRegressor  KFold: 3                398132.52   \n",
       "21              KNeighborsRegressor  KFold: 2                389328.72   \n",
       "22              KNeighborsRegressor  KFold: 1                 578162.0   \n",
       "23    KNeighborsRegressor - Cross-Validation   527647.21 +/- 212618.73   \n",
       "24                CatBoostRegressor  KFold: 5                710407.13   \n",
       "25                CatBoostRegressor  KFold: 4                 349672.6   \n",
       "26                CatBoostRegressor  KFold: 3                568584.49   \n",
       "27                CatBoostRegressor  KFold: 2                248527.65   \n",
       "28                CatBoostRegressor  KFold: 1                391753.19   \n",
       "29      CatBoostRegressor - Cross-Validation   453789.01 +/- 164834.32   \n",
       "30                   XGBRFRegressor  KFold: 5                818755.67   \n",
       "31                   XGBRFRegressor  KFold: 4                451351.87   \n",
       "32                   XGBRFRegressor  KFold: 3                459846.39   \n",
       "33                   XGBRFRegressor  KFold: 2                406853.75   \n",
       "34                   XGBRFRegressor  KFold: 1                415800.12   \n",
       "35         XGBRFRegressor - Cross-Validation   510521.56 +/- 155432.59   \n",
       "\n",
       "             MAPE                     RMSE            MPE  \n",
       "0            0.25               1598395.52           0.21  \n",
       "1            0.18                539414.02          -0.04  \n",
       "2            0.18                897481.75           0.14  \n",
       "3            0.18                598871.72           0.01  \n",
       "4            0.19               1070005.21           0.19  \n",
       "5    0.2 +/- 0.03  940833.64 +/- 381844.99    0.1 +/- 0.1  \n",
       "6            0.25               1598395.53           0.21  \n",
       "7            0.18                539414.02          -0.04  \n",
       "8            0.18                897481.75           0.14  \n",
       "9            0.18                598871.72           0.01  \n",
       "10           0.19               1070005.22           0.19  \n",
       "11   0.2 +/- 0.03  940833.65 +/- 381844.99    0.1 +/- 0.1  \n",
       "12           0.16               1084213.36           0.16  \n",
       "13           0.13                557761.68          -0.03  \n",
       "14           0.16                552045.17           0.01  \n",
       "15           0.11                344883.12           0.09  \n",
       "16            0.1                341274.07            0.1  \n",
       "17  0.13 +/- 0.02  576035.48 +/- 271182.06  0.07 +/- 0.07  \n",
       "18           0.24               1357950.39           0.17  \n",
       "19           0.14                491059.39           0.03  \n",
       "20           0.14                504372.84          -0.02  \n",
       "21           0.14                441982.29           0.09  \n",
       "22           0.16                 777964.2           0.13  \n",
       "23  0.16 +/- 0.04  714665.82 +/- 342461.97  0.08 +/- 0.07  \n",
       "24           0.17               1130561.82           0.17  \n",
       "25           0.14                625236.27          -0.06  \n",
       "26            0.2                665808.56          -0.02  \n",
       "27           0.08                298791.96           0.08  \n",
       "28           0.11                475591.11           0.11  \n",
       "29  0.14 +/- 0.04  639197.94 +/- 277483.31  0.06 +/- 0.08  \n",
       "30            0.2               1249634.95           0.18  \n",
       "31           0.18                620006.96            0.0  \n",
       "32           0.17                573443.19           0.01  \n",
       "33           0.14                526183.31           0.09  \n",
       "34           0.11                512389.25           0.11  \n",
       "35  0.16 +/- 0.03  696331.53 +/- 279233.54  0.08 +/- 0.07  "
      ]
     },
     "execution_count": 32,
     "metadata": {},
     "output_type": "execute_result"
    }
   ],
   "source": [
    "df_cross"
   ]
  },
  {
   "cell_type": "code",
   "execution_count": null,
   "id": "1cc91a15",
   "metadata": {},
   "outputs": [],
   "source": []
  }
 ],
 "metadata": {
  "kernelspec": {
   "display_name": ".venv",
   "language": "python",
   "name": "python3"
  },
  "language_info": {
   "codemirror_mode": {
    "name": "ipython",
    "version": 3
   },
   "file_extension": ".py",
   "mimetype": "text/x-python",
   "name": "python",
   "nbconvert_exporter": "python",
   "pygments_lexer": "ipython3",
   "version": "3.12.6"
  }
 },
 "nbformat": 4,
 "nbformat_minor": 5
}
